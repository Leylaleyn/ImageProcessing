{
 "cells": [
  {
   "cell_type": "code",
   "execution_count": 1,
   "id": "e3fc08ed-80a4-44b4-a796-0c61e6114eda",
   "metadata": {},
   "outputs": [],
   "source": [
    "import cv2"
   ]
  },
  {
   "cell_type": "code",
   "execution_count": 3,
   "id": "8693d36d-c5b9-4e2c-8d04-295fda4f42fe",
   "metadata": {},
   "outputs": [],
   "source": [
    "cap = cv2.VideoCapture(0, cv2.CAP_DSHOW)\n",
    "\n",
    "while True:\n",
    "    ret, frame = cap.read()  # Bir sonraki video çerçevesini okuyun\n",
    "    frame = cv2.flip(frame,1)  # görüntümüzü ters çeviriyor\n",
    "    \n",
    "    cv2.imshow(\"WebCam\", frame)  # Videoyu gösterin\n",
    "    \n",
    "    if cv2.waitKey(1) & 0xFF == ord('q'):\n",
    "        break  # 'q' tuşuna basıldığında döngüden çıkın\n",
    "\n",
    "\n",
    "cap.release()  # Videoyu serbest bırakın\n",
    "cv2.destroyAllWindows()  # Pencereyi kapatın\n",
    "\n",
    "    "
   ]
  },
  {
   "cell_type": "code",
   "execution_count": 8,
   "id": "d6ecbad1-2fe2-4253-86c6-378f5797f1ab",
   "metadata": {},
   "outputs": [],
   "source": [
    "video = cv2.VideoCapture('antalya.mp4')"
   ]
  },
  {
   "cell_type": "code",
   "execution_count": 9,
   "id": "68083cc1-34ed-4183-b82f-b15abfc24780",
   "metadata": {},
   "outputs": [],
   "source": [
    "while True:\n",
    "    ret, frame = video.read()  # Bir sonraki video çerçevesini okuyun\n",
    "    if not ret:\n",
    "        break  # Eğer video bitti ise döngüden çıkın\n",
    "    \n",
    "    cv2.imshow(\"Video\", frame)  # Videoyu gösterin\n",
    "\n",
    "    if cv2.waitKey(1) & 0xFF == ord('q'):\n",
    "        break  # 'q' tuşuna basıldığında döngüden çıkın\n",
    "\n",
    "video.release()  # Videoyu serbest bırakın\n",
    "cv2.destroyAllWindows()  # Pencereyi kapatın\n"
   ]
  },
  {
   "cell_type": "markdown",
   "id": "96163630-6922-4633-9da0-727d49003627",
   "metadata": {},
   "source": [
    "# ret ve "
   ]
  },
  {
   "cell_type": "markdown",
   "id": "a4d04c73-fdf4-49f7-9cb1-8f4d93e98212",
   "metadata": {},
   "source": [
    "### WEBCAM den aldıgımız görüntüleri kaydetme"
   ]
  },
  {
   "cell_type": "code",
   "execution_count": 26,
   "id": "55c0bd09-4294-4d73-9a5c-7eea87796cde",
   "metadata": {},
   "outputs": [],
   "source": [
    "import cv2"
   ]
  },
  {
   "cell_type": "code",
   "execution_count": 27,
   "id": "1d7adbc1-5e61-4008-87c3-a2de92430200",
   "metadata": {},
   "outputs": [],
   "source": [
    "filename = ('WebCam.mp4')\n",
    "codec = cv2.VideoWriter_fourcc(*'XVID')\n",
    "frameRate = 30\n",
    "resolution = (640,480)\n",
    "videoFileOutput = cv2.VideoWriter(filename, codec, frameRate, resolution)"
   ]
  },
  {
   "cell_type": "code",
   "execution_count": 28,
   "id": "8cfc392a-7a4d-4ed6-ad87-cd65592a6cb3",
   "metadata": {},
   "outputs": [],
   "source": [
    "cap = cv2.VideoCapture(0)\n",
    "while True:\n",
    "    ret, frame = cap.read() \n",
    "    frame = cv2.flip(frame,1)  \n",
    "    videoFileOutput.write(frame)\n",
    "    cv2.imshow(\"WebCam Live\", frame)  \n",
    "    \n",
    "    if cv2.waitKey(1) & 0xFF == ord('q'):\n",
    "        break \n",
    "\n",
    "videoFileOutput.release()\n",
    "cap.release() \n",
    "cv2.destroyAllWindows()"
   ]
  },
  {
   "cell_type": "markdown",
   "id": "41be649b-8dc2-4b6d-93e0-19a0380c65b5",
   "metadata": {},
   "source": [
    "### Başka bir şekilde deneme"
   ]
  },
  {
   "cell_type": "code",
   "execution_count": 22,
   "id": "a3153199-6c68-48ef-95d8-8fe8bf45e923",
   "metadata": {},
   "outputs": [],
   "source": [
    "import cv2\n",
    "\n",
    "# Video kaydedici için gerekli ayarlamalar\n",
    "fourcc = cv2.VideoWriter_fourcc(*'XVID')  # Codec seçimi (XVID formatı)\n",
    "fps = 30.0  # Kaydedilen videonun FPS değeri\n",
    "resolution = (640, 480)  # Kaydedilen videonun çözünürlüğü (genişlik, yükseklik)\n",
    "\n",
    "video = cv2.VideoCapture(0)\n",
    "\n",
    "# Kaydedici oluşturma\n",
    "out = cv2.VideoWriter('kaydedilen_video.mp4', fourcc, fps, resolution)\n",
    "\n",
    "while True:\n",
    "    ret, frame = video.read()\n",
    "    cv2.imshow('Webcam', frame)\n",
    "\n",
    "    # Görüntüyü kaydediciye yazma\n",
    "    out.write(frame)\n",
    "\n",
    "    if cv2.waitKey(1) & 0xFF == ord('q'):\n",
    "        break\n",
    "\n",
    "video.release()\n",
    "out.release()\n",
    "cv2.destroyAllWindows()\n"
   ]
  },
  {
   "cell_type": "markdown",
   "id": "0fac6ea8-7ccf-483f-b087-9912ae457c2a",
   "metadata": {},
   "source": [
    "* Bu kodda, cv2.VideoWriter sınıfı kullanılarak bir video kaydedici oluşturulur. fourcc değişkeni, kaydedilecek video formatını belirler. fps değişkeni, kaydedilen videonun FPS (kare hızı) değerini belirler. resolution değişkeni, kaydedilen videonun çözünürlüğünü (genişlik, yükseklik) belirtir.\n",
    "\n",
    "* Döngü içinde webcam'den gelen her kare out.write(frame) komutuyla kaydediciye yazılır.\n",
    "\n",
    "* Döngüden çıktıktan sonra video.release() ve out.release() ile kaynakları serbest bırakılır ve cv2.destroyAllWindows() ile açık olan tüm pencereler kapatılır.\n",
    "\n",
    "* Bu kodu çalıştırarak webcam'den alınan görüntüyü \"kaydedilen_video.mp4\" adlı bir video dosyasına kaydedebilirsiniz."
   ]
  },
  {
   "cell_type": "markdown",
   "id": "e228d0b7-c51b-46a2-9a21-8110b98bc904",
   "metadata": {},
   "source": [
    "### Codec Nedir\n",
    "\n",
    "Codec, video veya ses verilerinin sıkıştırılması ve depolanması için kullanılan bir algoritma veya teknolojiyi ifade eder. Video codec'leri, video dosyalarını daha küçük boyutlara sıkıştırarak depolama alanı tasarrufu sağlar ve veri transferinde daha etkin bir kullanım sunar. Codec'ler, görüntü ve ses kalitesini korurken veri boyutunu azaltmak için çeşitli sıkıştırma yöntemleri kullanır.\n",
    "\n",
    "OpenCV'de video kaydetmek için kullanılan `cv2.VideoWriter` sınıfı, bir codec seçmenizi gerektirir. `fourcc` parametresiyle belirlediğiniz değer, kullanılacak codec'yi belirler. Her codec, farklı bir dört karakterli birleşik (FourCC) kodu kullanır. Örneğin, \"XVID\" codec'i için FourCC değeri `'XVID'` olarak belirtilir.\n",
    "\n",
    "Bu codec'ler, videoyu belirli bir format ve sıkıştırma algoritması kullanarak kaydetmenizi sağlar. Farklı codec'ler, farklı özelliklere ve avantajlara sahip olabilir. Önemli olan, codec'ün kaydetme amacınıza uygun olduğundan emin olmaktır. Örneğin, bazı codec'ler yüksek sıkıştırma oranları sunarken, bazıları daha iyi görüntü kalitesi sağlayabilir.\n",
    "\n",
    "Video kaydederken, seçtiğiniz codec'ün kaydetmek istediğiniz platformda desteklenip desteklenmediğini kontrol etmek önemlidir. Bazı codec'ler, farklı işletim sistemleri veya oynatıcılar arasında uyumluluk sorunlarına neden olabilir.\n",
    "\n",
    "OpenCV'de yaygın olarak kullanılan bazı codec'ler şunlardır:\n",
    "\n",
    "- XVID: Popüler bir MPEG-4 codec'üdür.\n",
    "- MJPG: Hareketli JPEG formatında video sıkıştırma sağlar.\n",
    "- H.264: Yüksek kaliteli video sıkıştırma için kullanılan yaygın bir codec'dir.\n",
    "- DIVX: Diğer popüler codec'lere alternatif bir codec'tir.\n",
    "\n",
    "Hangi codec'i kullanacağınız, kaydetmek istediğiniz video formatına ve kullanım senaryonuza bağlıdır. Hangi codec'in ihtiyaçlarınıza en uygun olduğunu belirlemek için denemeler yapmanız veya platformunuzun belgelerini kontrol etmeniz önerilir."
   ]
  },
  {
   "cell_type": "code",
   "execution_count": null,
   "id": "33eb64ce-a6cf-4c1d-ad9e-cf1a3422b7c3",
   "metadata": {},
   "outputs": [],
   "source": []
  },
  {
   "cell_type": "code",
   "execution_count": null,
   "id": "46be5610-8881-4254-8291-0580bab89964",
   "metadata": {},
   "outputs": [],
   "source": []
  }
 ],
 "metadata": {
  "kernelspec": {
   "display_name": "Python 3 (ipykernel)",
   "language": "python",
   "name": "python3"
  },
  "language_info": {
   "codemirror_mode": {
    "name": "ipython",
    "version": 3
   },
   "file_extension": ".py",
   "mimetype": "text/x-python",
   "name": "python",
   "nbconvert_exporter": "python",
   "pygments_lexer": "ipython3",
   "version": "3.9.12"
  }
 },
 "nbformat": 4,
 "nbformat_minor": 5
}
