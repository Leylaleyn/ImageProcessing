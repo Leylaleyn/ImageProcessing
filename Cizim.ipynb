{
 "cells": [
  {
   "cell_type": "code",
   "execution_count": 1,
   "id": "9d572aaa-5f8e-4bf4-b49c-28819efc83a0",
   "metadata": {},
   "outputs": [],
   "source": [
    "import cv2"
   ]
  },
  {
   "cell_type": "code",
   "execution_count": 2,
   "id": "057d0ff8-61d3-4dd1-af72-a725d731188a",
   "metadata": {},
   "outputs": [],
   "source": [
    "import numpy as np"
   ]
  },
  {
   "cell_type": "code",
   "execution_count": 39,
   "id": "9f52c9c1-ac3b-4310-990d-a2eef50c511b",
   "metadata": {},
   "outputs": [],
   "source": [
    "canvas = np.zeros((512,512,3), dtype = np.uint8) # 512 512 boyutunda siyah bir ekran"
   ]
  },
  {
   "cell_type": "code",
   "execution_count": 40,
   "id": "4b441675-aeb2-46ee-80c5-a09599ba2e5c",
   "metadata": {},
   "outputs": [],
   "source": [
    "cv2.imshow(\"Canvas\", canvas)\n",
    "cv2.waitKey(0)\n",
    "cv2.destroyAllWindows()"
   ]
  },
  {
   "cell_type": "code",
   "execution_count": 41,
   "id": "ebaa269b-bb55-4a89-b1a7-0cff4e171228",
   "metadata": {},
   "outputs": [],
   "source": [
    "# rengini değiştirmek istersek "
   ]
  },
  {
   "cell_type": "code",
   "execution_count": 42,
   "id": "edea8736-f288-48b9-b1d3-eabf8cc92686",
   "metadata": {},
   "outputs": [],
   "source": [
    "beyazcanvas = np.zeros((512,512,3), dtype = np.uint8) + 255"
   ]
  },
  {
   "cell_type": "code",
   "execution_count": 43,
   "id": "e185f424-ba98-4bf8-a58e-b6219ab4cc06",
   "metadata": {},
   "outputs": [],
   "source": [
    "cv2.imshow(\"Canvas\", beyazcanvas)\n",
    "cv2.waitKey(0)\n",
    "cv2.destroyAllWindows()"
   ]
  },
  {
   "cell_type": "code",
   "execution_count": 44,
   "id": "ca6f4990-9374-4656-8adf-4673f046996c",
   "metadata": {},
   "outputs": [],
   "source": [
    "img = np.zeros((10,10,3), np.uint8)\n",
    "cv2.imshow(\"Canvas\", img)\n",
    "cv2.waitKey(0)\n",
    "cv2.destroyAllWindows()"
   ]
  },
  {
   "cell_type": "code",
   "execution_count": 45,
   "id": "c42a22c8-6d56-4acd-8630-f03e9cc5bece",
   "metadata": {},
   "outputs": [],
   "source": [
    "# PİKSELLERİ RENKLENDİRME \n",
    "img[0,0] = (255,255,255)\n",
    "img[0,1] = (255,255,200)\n",
    "img[0,2] = (255,255,100)\n",
    "img[0,3] = (255,255,15)\n"
   ]
  },
  {
   "cell_type": "code",
   "execution_count": 46,
   "id": "623c6df6-42bf-4e0c-9fca-d8866d946cad",
   "metadata": {},
   "outputs": [],
   "source": [
    "#YENİDEN BOYUTLANDIRMAK İÇİN RESİZE FONK KULLANDIK\n",
    "img = cv2.resize(img,(1000,1000), interpolation = cv2.INTER_AREA)"
   ]
  },
  {
   "cell_type": "code",
   "execution_count": 47,
   "id": "fc06c98b-b98d-45e5-b4a2-433c595d804d",
   "metadata": {},
   "outputs": [],
   "source": [
    "cv2.imshow(\"Renkli Img\", img)\n",
    "cv2.waitKey(0)\n",
    "cv2.destroyAllWindows()"
   ]
  },
  {
   "cell_type": "markdown",
   "id": "27243fdf-99da-4cef-95e9-87bd6ef02d22",
   "metadata": {},
   "source": [
    "#### Siyah Beyaz görüntü oluşturalım"
   ]
  },
  {
   "cell_type": "code",
   "execution_count": 14,
   "id": "f53d34de-64c1-49ca-ab98-345c639cb05c",
   "metadata": {},
   "outputs": [],
   "source": [
    "import numpy as np\n",
    "import cv2\n",
    "\n",
    "img = np.zeros((300, 300), np.uint8)\n",
    "img[0, 0] = 255\n",
    "img[0, 1] = 200\n",
    "img[0, 2] = 100\n",
    "img[0, 3] = 15\n",
    "img[200, 200] = 200\n",
    "cv2.imshow(\"Canvas\", img)\n",
    "cv2.waitKey(0)\n",
    "cv2.destroyAllWindows()\n",
    "\n",
    "# renkler baya küçük alanda yer kaplıyor bu yüzden gözükmeyebilr"
   ]
  },
  {
   "cell_type": "markdown",
   "id": "751e2daa-215c-4d12-8317-12ad13ca4d17",
   "metadata": {},
   "source": [
    "### Çizim Fonksiyonları"
   ]
  },
  {
   "cell_type": "code",
   "execution_count": 1,
   "id": "31ff6609-860c-46fb-ac04-42d116d79ab3",
   "metadata": {},
   "outputs": [],
   "source": [
    "import numpy as np \n",
    "import cv2"
   ]
  },
  {
   "cell_type": "code",
   "execution_count": 3,
   "id": "cdb4104a-018a-4d24-a0bc-ddf04b5f5e99",
   "metadata": {},
   "outputs": [],
   "source": [
    "canvas = np.zeros((512,512,3), np.uint8) + 255"
   ]
  },
  {
   "cell_type": "markdown",
   "id": "638e9d06-b536-423c-a621-323c8eab5152",
   "metadata": {},
   "source": [
    "### Doğru Çizimi"
   ]
  },
  {
   "cell_type": "code",
   "execution_count": 12,
   "id": "48b133bb-c467-4759-bac9-8659d08d4f44",
   "metadata": {
    "collapsed": true,
    "jupyter": {
     "outputs_hidden": true
    },
    "tags": []
   },
   "outputs": [
    {
     "data": {
      "text/plain": [
       "array([[[255, 255, 255],\n",
       "        [255, 255, 255],\n",
       "        [255, 255, 255],\n",
       "        ...,\n",
       "        [255, 255, 255],\n",
       "        [255, 255, 255],\n",
       "        [255, 255, 255]],\n",
       "\n",
       "       [[255, 255, 255],\n",
       "        [255, 255, 255],\n",
       "        [255, 255, 255],\n",
       "        ...,\n",
       "        [255, 255, 255],\n",
       "        [255, 255, 255],\n",
       "        [255, 255, 255]],\n",
       "\n",
       "       [[255, 255, 255],\n",
       "        [255, 255, 255],\n",
       "        [255, 255, 255],\n",
       "        ...,\n",
       "        [255, 255, 255],\n",
       "        [255, 255, 255],\n",
       "        [255, 255, 255]],\n",
       "\n",
       "       ...,\n",
       "\n",
       "       [[255, 255, 255],\n",
       "        [255, 255, 255],\n",
       "        [255, 255, 255],\n",
       "        ...,\n",
       "        [255,   0,   0],\n",
       "        [255,   0,   0],\n",
       "        [255,   0,   0]],\n",
       "\n",
       "       [[255, 255, 255],\n",
       "        [255, 255, 255],\n",
       "        [255, 255, 255],\n",
       "        ...,\n",
       "        [255,   0,   0],\n",
       "        [255,   0,   0],\n",
       "        [255,   0,   0]],\n",
       "\n",
       "       [[255, 255, 255],\n",
       "        [255, 255, 255],\n",
       "        [255, 255, 255],\n",
       "        ...,\n",
       "        [255,   0,   0],\n",
       "        [255,   0,   0],\n",
       "        [255,   0,   0]]], dtype=uint8)"
      ]
     },
     "execution_count": 12,
     "metadata": {},
     "output_type": "execute_result"
    }
   ],
   "source": [
    "cv2.line(canvas,(50,50),(512,512),(255,0,0),thickness = 5) #baslangıç noktası (50,50) bitiş noktası (512,512) ve rengimiz (255,0,0) kalınlık ise thickness"
   ]
  },
  {
   "cell_type": "code",
   "execution_count": 13,
   "id": "f7d4afdd-3702-468b-a40a-782a6057518c",
   "metadata": {
    "collapsed": true,
    "jupyter": {
     "outputs_hidden": true
    },
    "tags": []
   },
   "outputs": [
    {
     "data": {
      "text/plain": [
       "array([[[255, 255, 255],\n",
       "        [255, 255, 255],\n",
       "        [255, 255, 255],\n",
       "        ...,\n",
       "        [255, 255, 255],\n",
       "        [255, 255, 255],\n",
       "        [255, 255, 255]],\n",
       "\n",
       "       [[255, 255, 255],\n",
       "        [255, 255, 255],\n",
       "        [255, 255, 255],\n",
       "        ...,\n",
       "        [255, 255, 255],\n",
       "        [255, 255, 255],\n",
       "        [255, 255, 255]],\n",
       "\n",
       "       [[255, 255, 255],\n",
       "        [255, 255, 255],\n",
       "        [255, 255, 255],\n",
       "        ...,\n",
       "        [255, 255, 255],\n",
       "        [255, 255, 255],\n",
       "        [255, 255, 255]],\n",
       "\n",
       "       ...,\n",
       "\n",
       "       [[255, 255, 255],\n",
       "        [255, 255, 255],\n",
       "        [255, 255, 255],\n",
       "        ...,\n",
       "        [255,   0,   0],\n",
       "        [255,   0,   0],\n",
       "        [255,   0,   0]],\n",
       "\n",
       "       [[255, 255, 255],\n",
       "        [255, 255, 255],\n",
       "        [255, 255, 255],\n",
       "        ...,\n",
       "        [255,   0,   0],\n",
       "        [255,   0,   0],\n",
       "        [255,   0,   0]],\n",
       "\n",
       "       [[255, 255, 255],\n",
       "        [255, 255, 255],\n",
       "        [255, 255, 255],\n",
       "        ...,\n",
       "        [255,   0,   0],\n",
       "        [255,   0,   0],\n",
       "        [255,   0,   0]]], dtype=uint8)"
      ]
     },
     "execution_count": 13,
     "metadata": {},
     "output_type": "execute_result"
    }
   ],
   "source": [
    "cv2.line(canvas,(150,50),(202,202),(255,123,130),thickness = 11)"
   ]
  },
  {
   "cell_type": "markdown",
   "id": "40322e4f-d2f1-4cc8-a1e9-fa902221d85b",
   "metadata": {},
   "source": [
    "### Dikdörtgen Çizimi"
   ]
  },
  {
   "cell_type": "code",
   "execution_count": 15,
   "id": "df60608e-f864-4dba-abd3-08deab0e3a31",
   "metadata": {
    "collapsed": true,
    "jupyter": {
     "outputs_hidden": true
    },
    "tags": []
   },
   "outputs": [
    {
     "data": {
      "text/plain": [
       "array([[[255, 255, 255],\n",
       "        [255, 255, 255],\n",
       "        [255, 255, 255],\n",
       "        ...,\n",
       "        [255, 255, 255],\n",
       "        [255, 255, 255],\n",
       "        [255, 255, 255]],\n",
       "\n",
       "       [[255, 255, 255],\n",
       "        [255, 255, 255],\n",
       "        [255, 255, 255],\n",
       "        ...,\n",
       "        [255, 255, 255],\n",
       "        [255, 255, 255],\n",
       "        [255, 255, 255]],\n",
       "\n",
       "       [[255, 255, 255],\n",
       "        [255, 255, 255],\n",
       "        [255, 255, 255],\n",
       "        ...,\n",
       "        [255, 255, 255],\n",
       "        [255, 255, 255],\n",
       "        [255, 255, 255]],\n",
       "\n",
       "       ...,\n",
       "\n",
       "       [[255, 255, 255],\n",
       "        [255, 255, 255],\n",
       "        [255, 255, 255],\n",
       "        ...,\n",
       "        [255,   0,   0],\n",
       "        [255,   0,   0],\n",
       "        [255,   0,   0]],\n",
       "\n",
       "       [[255, 255, 255],\n",
       "        [255, 255, 255],\n",
       "        [255, 255, 255],\n",
       "        ...,\n",
       "        [255,   0,   0],\n",
       "        [255,   0,   0],\n",
       "        [255,   0,   0]],\n",
       "\n",
       "       [[255, 255, 255],\n",
       "        [255, 255, 255],\n",
       "        [255, 255, 255],\n",
       "        ...,\n",
       "        [255,   0,   0],\n",
       "        [255,   0,   0],\n",
       "        [255,   0,   0]]], dtype=uint8)"
      ]
     },
     "execution_count": 15,
     "metadata": {},
     "output_type": "execute_result"
    }
   ],
   "source": [
    "cv2.rectangle(canvas,(20,20),(50,50),(0,255,0), thickness = -1) # dikdörtgenin sol üst köşesi (20,20) sağ alt köşesi (50,50) kalınlığı -1 verdiğimizde içi dolu bir dikdörtgen elde ediyoruz"
   ]
  },
  {
   "cell_type": "markdown",
   "id": "4093c72c-2cab-4de5-b66e-96736aed5228",
   "metadata": {},
   "source": [
    "### Çember Çizimi"
   ]
  },
  {
   "cell_type": "code",
   "execution_count": 19,
   "id": "950b417b-2ebc-44af-8bd5-25dac6d9f489",
   "metadata": {
    "collapsed": true,
    "jupyter": {
     "outputs_hidden": true
    },
    "tags": []
   },
   "outputs": [
    {
     "data": {
      "text/plain": [
       "array([[[255, 255, 255],\n",
       "        [255, 255, 255],\n",
       "        [255, 255, 255],\n",
       "        ...,\n",
       "        [255, 255, 255],\n",
       "        [255, 255, 255],\n",
       "        [255, 255, 255]],\n",
       "\n",
       "       [[255, 255, 255],\n",
       "        [255, 255, 255],\n",
       "        [255, 255, 255],\n",
       "        ...,\n",
       "        [255, 255, 255],\n",
       "        [255, 255, 255],\n",
       "        [255, 255, 255]],\n",
       "\n",
       "       [[255, 255, 255],\n",
       "        [255, 255, 255],\n",
       "        [255, 255, 255],\n",
       "        ...,\n",
       "        [255, 255, 255],\n",
       "        [255, 255, 255],\n",
       "        [255, 255, 255]],\n",
       "\n",
       "       ...,\n",
       "\n",
       "       [[255, 255, 255],\n",
       "        [255, 255, 255],\n",
       "        [255, 255, 255],\n",
       "        ...,\n",
       "        [255,   0,   0],\n",
       "        [255,   0,   0],\n",
       "        [255,   0,   0]],\n",
       "\n",
       "       [[255, 255, 255],\n",
       "        [255, 255, 255],\n",
       "        [255, 255, 255],\n",
       "        ...,\n",
       "        [255,   0,   0],\n",
       "        [255,   0,   0],\n",
       "        [255,   0,   0]],\n",
       "\n",
       "       [[255, 255, 255],\n",
       "        [255, 255, 255],\n",
       "        [255, 255, 255],\n",
       "        ...,\n",
       "        [255,   0,   0],\n",
       "        [255,   0,   0],\n",
       "        [255,   0,   0]]], dtype=uint8)"
      ]
     },
     "execution_count": 19,
     "metadata": {},
     "output_type": "execute_result"
    }
   ],
   "source": [
    "cv2.circle(canvas,(250,250),100,(0,0,255), thickness = -1) # (canvas,merkez koordinatı, yarıçapı, renk, kalınlık)"
   ]
  },
  {
   "cell_type": "markdown",
   "id": "1be13b21-9b46-49e6-af29-f11643cd1011",
   "metadata": {},
   "source": [
    "### Üçgen çizimi"
   ]
  },
  {
   "cell_type": "code",
   "execution_count": 21,
   "id": "976d86e9-f5f6-43fb-a9e5-a414d0ad05ab",
   "metadata": {},
   "outputs": [],
   "source": [
    "# Üçgen için ayrı bır hazır fonksiyon yok bu yuzden doğruları kullanarak üçgen oluşturabiliriz"
   ]
  },
  {
   "cell_type": "code",
   "execution_count": 30,
   "id": "995bd91a-9b29-484c-8f62-ec41ebfd5429",
   "metadata": {},
   "outputs": [],
   "source": [
    "p1 = (100,200)\n",
    "p2 = (50,50)\n",
    "p3 = (300,100)"
   ]
  },
  {
   "cell_type": "code",
   "execution_count": 31,
   "id": "dc198b80-5842-4597-a49d-16b6bd7078d9",
   "metadata": {},
   "outputs": [
    {
     "data": {
      "text/plain": [
       "array([[[255, 255, 255],\n",
       "        [255, 255, 255],\n",
       "        [255, 255, 255],\n",
       "        ...,\n",
       "        [255, 255, 255],\n",
       "        [255, 255, 255],\n",
       "        [255, 255, 255]],\n",
       "\n",
       "       [[255, 255, 255],\n",
       "        [255, 255, 255],\n",
       "        [255, 255, 255],\n",
       "        ...,\n",
       "        [255, 255, 255],\n",
       "        [255, 255, 255],\n",
       "        [255, 255, 255]],\n",
       "\n",
       "       [[255, 255, 255],\n",
       "        [255, 255, 255],\n",
       "        [255, 255, 255],\n",
       "        ...,\n",
       "        [255, 255, 255],\n",
       "        [255, 255, 255],\n",
       "        [255, 255, 255]],\n",
       "\n",
       "       ...,\n",
       "\n",
       "       [[255, 255, 255],\n",
       "        [255, 255, 255],\n",
       "        [255, 255, 255],\n",
       "        ...,\n",
       "        [255,   0,   0],\n",
       "        [255,   0,   0],\n",
       "        [255,   0,   0]],\n",
       "\n",
       "       [[255, 255, 255],\n",
       "        [255, 255, 255],\n",
       "        [255, 255, 255],\n",
       "        ...,\n",
       "        [255,   0,   0],\n",
       "        [255,   0,   0],\n",
       "        [255,   0,   0]],\n",
       "\n",
       "       [[255, 255, 255],\n",
       "        [255, 255, 255],\n",
       "        [255, 255, 255],\n",
       "        ...,\n",
       "        [255,   0,   0],\n",
       "        [255,   0,   0],\n",
       "        [255,   0,   0]]], dtype=uint8)"
      ]
     },
     "execution_count": 31,
     "metadata": {},
     "output_type": "execute_result"
    }
   ],
   "source": [
    "cv2.line(canvas,p1,p2,(0,0,0),4)\n",
    "cv2.line(canvas,p2,p3,(0,0,0),4)\n",
    "cv2.line(canvas,p1,p3,(0,0,0),4)"
   ]
  },
  {
   "cell_type": "markdown",
   "id": "c6d177cf-54c4-453c-b19b-7f17a3c1ed3d",
   "metadata": {},
   "source": [
    "### Herhangi bir Şekil Oluşturma"
   ]
  },
  {
   "cell_type": "code",
   "execution_count": 34,
   "id": "97bbf8ad-ffaf-45d0-aa20-6bfda71f8dbe",
   "metadata": {},
   "outputs": [],
   "source": [
    "points = np.array([[[110,200],[330,200],[290,220],[120,250]]], np.int32)"
   ]
  },
  {
   "cell_type": "code",
   "execution_count": 35,
   "id": "bab0ba58-0287-43a2-aaa8-d724219cd874",
   "metadata": {
    "collapsed": true,
    "jupyter": {
     "outputs_hidden": true
    },
    "tags": []
   },
   "outputs": [
    {
     "data": {
      "text/plain": [
       "array([[[255, 255, 255],\n",
       "        [255, 255, 255],\n",
       "        [255, 255, 255],\n",
       "        ...,\n",
       "        [255, 255, 255],\n",
       "        [255, 255, 255],\n",
       "        [255, 255, 255]],\n",
       "\n",
       "       [[255, 255, 255],\n",
       "        [255, 255, 255],\n",
       "        [255, 255, 255],\n",
       "        ...,\n",
       "        [255, 255, 255],\n",
       "        [255, 255, 255],\n",
       "        [255, 255, 255]],\n",
       "\n",
       "       [[255, 255, 255],\n",
       "        [255, 255, 255],\n",
       "        [255, 255, 255],\n",
       "        ...,\n",
       "        [255, 255, 255],\n",
       "        [255, 255, 255],\n",
       "        [255, 255, 255]],\n",
       "\n",
       "       ...,\n",
       "\n",
       "       [[255, 255, 255],\n",
       "        [255, 255, 255],\n",
       "        [255, 255, 255],\n",
       "        ...,\n",
       "        [255,   0,   0],\n",
       "        [255,   0,   0],\n",
       "        [255,   0,   0]],\n",
       "\n",
       "       [[255, 255, 255],\n",
       "        [255, 255, 255],\n",
       "        [255, 255, 255],\n",
       "        ...,\n",
       "        [255,   0,   0],\n",
       "        [255,   0,   0],\n",
       "        [255,   0,   0]],\n",
       "\n",
       "       [[255, 255, 255],\n",
       "        [255, 255, 255],\n",
       "        [255, 255, 255],\n",
       "        ...,\n",
       "        [255,   0,   0],\n",
       "        [255,   0,   0],\n",
       "        [255,   0,   0]]], dtype=uint8)"
      ]
     },
     "execution_count": 35,
     "metadata": {},
     "output_type": "execute_result"
    }
   ],
   "source": [
    "cv2.polylines(canvas, [points],True,(0,0,100),5) # şeklin kapalı olması için True dedik"
   ]
  },
  {
   "cell_type": "markdown",
   "id": "3571815f-ee0b-4941-ac86-6265d588de12",
   "metadata": {},
   "source": [
    "### Elips Çizimi"
   ]
  },
  {
   "cell_type": "code",
   "execution_count": 37,
   "id": "dea3e9db-2f6c-4e2d-bf42-4653e8875d17",
   "metadata": {
    "collapsed": true,
    "jupyter": {
     "outputs_hidden": true
    },
    "tags": []
   },
   "outputs": [
    {
     "data": {
      "text/plain": [
       "array([[[255, 255, 255],\n",
       "        [255, 255, 255],\n",
       "        [255, 255, 255],\n",
       "        ...,\n",
       "        [255, 255, 255],\n",
       "        [255, 255, 255],\n",
       "        [255, 255, 255]],\n",
       "\n",
       "       [[255, 255, 255],\n",
       "        [255, 255, 255],\n",
       "        [255, 255, 255],\n",
       "        ...,\n",
       "        [255, 255, 255],\n",
       "        [255, 255, 255],\n",
       "        [255, 255, 255]],\n",
       "\n",
       "       [[255, 255, 255],\n",
       "        [255, 255, 255],\n",
       "        [255, 255, 255],\n",
       "        ...,\n",
       "        [255, 255, 255],\n",
       "        [255, 255, 255],\n",
       "        [255, 255, 255]],\n",
       "\n",
       "       ...,\n",
       "\n",
       "       [[255, 255, 255],\n",
       "        [255, 255, 255],\n",
       "        [255, 255, 255],\n",
       "        ...,\n",
       "        [255,   0,   0],\n",
       "        [255,   0,   0],\n",
       "        [255,   0,   0]],\n",
       "\n",
       "       [[255, 255, 255],\n",
       "        [255, 255, 255],\n",
       "        [255, 255, 255],\n",
       "        ...,\n",
       "        [255,   0,   0],\n",
       "        [255,   0,   0],\n",
       "        [255,   0,   0]],\n",
       "\n",
       "       [[255, 255, 255],\n",
       "        [255, 255, 255],\n",
       "        [255, 255, 255],\n",
       "        ...,\n",
       "        [255,   0,   0],\n",
       "        [255,   0,   0],\n",
       "        [255,   0,   0]]], dtype=uint8)"
      ]
     },
     "execution_count": 37,
     "metadata": {},
     "output_type": "execute_result"
    }
   ],
   "source": [
    "cv2.ellipse(canvas,(300,300),(80,20),10, 90,360, (255,255,0), -1)"
   ]
  },
  {
   "cell_type": "code",
   "execution_count": 39,
   "id": "733b0272-c4cd-4eb6-b28f-ca7acd124f26",
   "metadata": {},
   "outputs": [],
   "source": [
    "# ellipse ( (merkez noktası), ( genişlik,yukseklık),yatay eksenle yapıcagı açı,başlangiç açısı, bitiş açısı, renk, kalınlık)"
   ]
  },
  {
   "cell_type": "code",
   "execution_count": 38,
   "id": "33f3ec14-c415-4a71-a411-683f1991db0d",
   "metadata": {},
   "outputs": [],
   "source": [
    "cv2.imshow(\"Canvas\",canvas)\n",
    "cv2.waitKey(0)\n",
    "cv2.destroyAllWindows()"
   ]
  },
  {
   "cell_type": "code",
   "execution_count": null,
   "id": "0c8863be-1bc7-4d5e-93af-df0f6b1d3ed8",
   "metadata": {},
   "outputs": [],
   "source": []
  }
 ],
 "metadata": {
  "kernelspec": {
   "display_name": "Python 3 (ipykernel)",
   "language": "python",
   "name": "python3"
  },
  "language_info": {
   "codemirror_mode": {
    "name": "ipython",
    "version": 3
   },
   "file_extension": ".py",
   "mimetype": "text/x-python",
   "name": "python",
   "nbconvert_exporter": "python",
   "pygments_lexer": "ipython3",
   "version": "3.9.12"
  }
 },
 "nbformat": 4,
 "nbformat_minor": 5
}
