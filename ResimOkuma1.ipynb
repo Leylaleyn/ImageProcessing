{
 "cells": [
  {
   "cell_type": "code",
   "execution_count": 1,
   "id": "79bee80b-16ed-4dce-8492-c879244235d8",
   "metadata": {},
   "outputs": [],
   "source": [
    "import cv2"
   ]
  },
  {
   "cell_type": "code",
   "execution_count": 6,
   "id": "61ed4105-def2-4b6b-973e-0440f84f5f07",
   "metadata": {},
   "outputs": [],
   "source": [
    "img = cv2.imread(\"klon.jpg\" ) # , cv2.IMREAD_GRAYSCALE ya da 0 yazabiliriz gri tonlara dönüştürüyor"
   ]
  },
  {
   "cell_type": "code",
   "execution_count": 13,
   "id": "4e0f7196-66a7-42e9-abc9-49675e4a11c1",
   "metadata": {},
   "outputs": [],
   "source": [
    "cv2.namedWindow('image', cv2.WINDOW_NORMAL) # resmimizi boyutlandırabilmek için\n",
    "cv2.imshow(\"image\",img)\n",
    "cv2.waitKey(0)\n",
    "cv2.destroyAllWindows() # karmaşaya yol açmasın diye yazıyoruz her zaman yazılır bu "
   ]
  },
  {
   "cell_type": "code",
   "execution_count": 4,
   "id": "43871db3-ab54-4eda-b679-fe62de14e597",
   "metadata": {},
   "outputs": [
    {
     "data": {
      "text/plain": [
       "True"
      ]
     },
     "execution_count": 4,
     "metadata": {},
     "output_type": "execute_result"
    }
   ],
   "source": [
    "cv2.imwrite('klon1.jpg',img)  # resmi kopyalamak için kullanıyoruz"
   ]
  },
  {
   "cell_type": "code",
   "execution_count": 14,
   "id": "7c56e848-9113-4886-9360-060eba467895",
   "metadata": {},
   "outputs": [
    {
     "data": {
      "text/plain": [
       "-1"
      ]
     },
     "execution_count": 14,
     "metadata": {},
     "output_type": "execute_result"
    }
   ],
   "source": [
    "resized_image = cv2.resize(img, (600,480))\n",
    "cv2.imshow(\"Yeniden Boyutlandirilmis Goruntu\", resized_image)\n",
    "cv2.waitKey(0)\n"
   ]
  },
  {
   "cell_type": "code",
   "execution_count": null,
   "id": "3411d4ad-df73-4244-a2a5-02f32b0ca980",
   "metadata": {},
   "outputs": [],
   "source": []
  }
 ],
 "metadata": {
  "kernelspec": {
   "display_name": "Python 3 (ipykernel)",
   "language": "python",
   "name": "python3"
  },
  "language_info": {
   "codemirror_mode": {
    "name": "ipython",
    "version": 3
   },
   "file_extension": ".py",
   "mimetype": "text/x-python",
   "name": "python",
   "nbconvert_exporter": "python",
   "pygments_lexer": "ipython3",
   "version": "3.9.12"
  }
 },
 "nbformat": 4,
 "nbformat_minor": 5
}
