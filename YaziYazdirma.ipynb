{
 "cells": [
  {
   "cell_type": "code",
   "execution_count": 29,
   "id": "cd9c89e0-7818-43f2-b60b-bd63d696fffb",
   "metadata": {},
   "outputs": [],
   "source": [
    "import cv2\n",
    "import numpy as np"
   ]
  },
  {
   "cell_type": "code",
   "execution_count": 34,
   "id": "361b39f0-d93f-48cf-bc2a-a98596f902c1",
   "metadata": {},
   "outputs": [],
   "source": [
    "canvas = np.zeros((1512,1512,3), np.uint8) + 255"
   ]
  },
  {
   "cell_type": "code",
   "execution_count": 35,
   "id": "042669ac-c9ca-4d4d-b672-a7f0837d2787",
   "metadata": {},
   "outputs": [],
   "source": [
    "font1 = cv2.FONT_HERSHEY_SIMPLEX\n",
    "font2 = cv2.FONT_HERSHEY_COMPLEX\n",
    "font3 = cv2.FONT_HERSHEY_SCRIPT_COMPLEX"
   ]
  },
  {
   "cell_type": "code",
   "execution_count": 38,
   "id": "baf883b6-1728-4209-a5d5-3b1a68f59e56",
   "metadata": {
    "collapsed": true,
    "jupyter": {
     "outputs_hidden": true
    },
    "tags": []
   },
   "outputs": [
    {
     "data": {
      "text/plain": [
       "array([[[255, 255, 255],\n",
       "        [255, 255, 255],\n",
       "        [255, 255, 255],\n",
       "        ...,\n",
       "        [255, 255, 255],\n",
       "        [255, 255, 255],\n",
       "        [255, 255, 255]],\n",
       "\n",
       "       [[255, 255, 255],\n",
       "        [255, 255, 255],\n",
       "        [255, 255, 255],\n",
       "        ...,\n",
       "        [255, 255, 255],\n",
       "        [255, 255, 255],\n",
       "        [255, 255, 255]],\n",
       "\n",
       "       [[255, 255, 255],\n",
       "        [255, 255, 255],\n",
       "        [255, 255, 255],\n",
       "        ...,\n",
       "        [255, 255, 255],\n",
       "        [255, 255, 255],\n",
       "        [255, 255, 255]],\n",
       "\n",
       "       ...,\n",
       "\n",
       "       [[255, 255, 255],\n",
       "        [255, 255, 255],\n",
       "        [255, 255, 255],\n",
       "        ...,\n",
       "        [255, 255, 255],\n",
       "        [255, 255, 255],\n",
       "        [255, 255, 255]],\n",
       "\n",
       "       [[255, 255, 255],\n",
       "        [255, 255, 255],\n",
       "        [255, 255, 255],\n",
       "        ...,\n",
       "        [255, 255, 255],\n",
       "        [255, 255, 255],\n",
       "        [255, 255, 255]],\n",
       "\n",
       "       [[255, 255, 255],\n",
       "        [255, 255, 255],\n",
       "        [255, 255, 255],\n",
       "        ...,\n",
       "        [255, 255, 255],\n",
       "        [255, 255, 255],\n",
       "        [255, 255, 255]]], dtype=uint8)"
      ]
     },
     "execution_count": 38,
     "metadata": {},
     "output_type": "execute_result"
    }
   ],
   "source": [
    "cv2.putText(canvas,\"Aleyna KOCABEY\",(120,350), font3, 4, (123,212,142), cv2.LINE_AA )"
   ]
  },
  {
   "cell_type": "code",
   "execution_count": 40,
   "id": "e25f499d-1e14-4535-bbff-7e15ebc68006",
   "metadata": {},
   "outputs": [],
   "source": [
    "# putText( canvas, \"Metin\",(metnin koordinati), yazı tipi, büyüklüğü, renk, yazının tipi)"
   ]
  },
  {
   "cell_type": "code",
   "execution_count": 39,
   "id": "d41ca64e-edfb-4a74-adca-3ba7832ff50f",
   "metadata": {},
   "outputs": [],
   "source": [
    "cv2.imshow(\"Canvas\",canvas)\n",
    "cv2.waitKey(0)\n",
    "cv2.destroyAllWindows()"
   ]
  },
  {
   "cell_type": "markdown",
   "id": "b25ea93f-de2e-4a23-b8fb-ad66f21bf589",
   "metadata": {},
   "source": [
    "### TRACKBAR "
   ]
  },
  {
   "cell_type": "markdown",
   "id": "190ffefb-f3b9-4a89-b1c8-83dbab80afe7",
   "metadata": {},
   "source": [
    "* penCV'de, bir trackbar (kaydırıcı çubuğu) görüntüleme ve kullanıcı etkileşimini sağlama amacıyla kullanılan bir araçtır. Trackbar, bir pencere içerisinde kaydırıcı çubuğu ve bir değer göstergesi olarak görüntülenir. Kullanıcı, kaydırıcıyı sürükleyerek değeri değiştirebilir ve bu değer program tarafından yakalanabilir.\n",
    "* Trackbar'lar, genellikle görüntü işleme uygulamalarında kullanıcıya çeşitli ayarlar ve parametreler üzerinde kontrol sağlamak için kullanılır. Örneğin, parlaklık, kontrast, renk filtreleri gibi görüntü işleme işlemlerinde trackbar'lar kullanılarak ayarların gerçek zamanlı olarak değiştirilmesi sağlanabilir."
   ]
  },
  {
   "cell_type": "code",
   "execution_count": 52,
   "id": "ee489d1e-788d-45ed-9a26-af1e42053435",
   "metadata": {},
   "outputs": [],
   "source": [
    "import cv2\n",
    "import numpy as np"
   ]
  },
  {
   "cell_type": "code",
   "execution_count": 53,
   "id": "ba85233f-6f24-48ce-8cd4-27f1af8b1f5d",
   "metadata": {},
   "outputs": [],
   "source": [
    "def nothing(x):  # (Opencv den kaynaklı) Trackbar'ın hatasız bir şekilde çalışması için boş bir fonksiyon tanımlamamız gerekiyor\n",
    "    pass"
   ]
  },
  {
   "cell_type": "code",
   "execution_count": 56,
   "id": "d29ad2aa-1b08-412b-8e8a-ebefcee5a0df",
   "metadata": {},
   "outputs": [],
   "source": [
    "img = np.zeros((512,512,3), np.uint8)\n",
    "cv2.namedWindow(\"image\") # oluşturduğumuz pencereye ad verdik\n",
    "cv2.createTrackbar('R',\"image\",0,255, nothing)  #  # createTrackbar(adı,yerleşeceği pencere,0 dan 255 'e kadar değer alsın, boş fonksiyon)\n",
    "cv2.createTrackbar('G',\"image\",0,255, nothing)\n",
    "cv2.createTrackbar('B',\"image\",0,255, nothing)\n",
    "switch = \"0: OFF, 1:0N\"\n",
    "cv2.createTrackbar(switch,\"image\",0,1,nothing)\n",
    "\n",
    "\n",
    "while True:\n",
    "    cv2.imshow(\"image\",img)\n",
    "    if cv2.waitKey(1) & 0xFF == ord(\"q\"):\n",
    "        break\n",
    "        \n",
    "    r = cv2.getTrackbarPos(\"R\",\"image\")    \n",
    "    g = cv2.getTrackbarPos(\"G\",\"image\")  \n",
    "    b = cv2.getTrackbarPos(\"B\",\"image\")\n",
    "    s = cv2.getTrackbarPos(switch,\"image\")\n",
    "    if s == 0:\n",
    "        img[:] = [0,0,0]\n",
    "    if s == 1:\n",
    "        img[:] = [b,g,r]\n",
    "        \n",
    "cv2.destroyAllWindows()        "
   ]
  },
  {
   "cell_type": "code",
   "execution_count": null,
   "id": "8593cac8-003f-400f-9a74-f4084e790630",
   "metadata": {},
   "outputs": [],
   "source": []
  }
 ],
 "metadata": {
  "kernelspec": {
   "display_name": "Python 3 (ipykernel)",
   "language": "python",
   "name": "python3"
  },
  "language_info": {
   "codemirror_mode": {
    "name": "ipython",
    "version": 3
   },
   "file_extension": ".py",
   "mimetype": "text/x-python",
   "name": "python",
   "nbconvert_exporter": "python",
   "pygments_lexer": "ipython3",
   "version": "3.9.12"
  }
 },
 "nbformat": 4,
 "nbformat_minor": 5
}
